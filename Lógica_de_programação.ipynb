{
  "nbformat": 4,
  "nbformat_minor": 0,
  "metadata": {
    "colab": {
      "name": "Lógica de programação.ipynb",
      "provenance": [],
      "collapsed_sections": [],
      "authorship_tag": "ABX9TyOIF0eESKqlTrghYwRC98Ea",
      "include_colab_link": true
    },
    "kernelspec": {
      "name": "python3",
      "display_name": "Python 3"
    },
    "language_info": {
      "name": "python"
    }
  },
  "cells": [
    {
      "cell_type": "markdown",
      "metadata": {
        "id": "view-in-github",
        "colab_type": "text"
      },
      "source": [
        "<a href=\"https://colab.research.google.com/github/GabrielJunqueira/Python/blob/main/L%C3%B3gica_de_programa%C3%A7%C3%A3o.ipynb\" target=\"_parent\"><img src=\"https://colab.research.google.com/assets/colab-badge.svg\" alt=\"Open In Colab\"/></a>"
      ]
    },
    {
      "cell_type": "markdown",
      "source": [
        "# Lógica de Programação 1"
      ],
      "metadata": {
        "id": "xIb2Gqz8jwiL"
      }
    },
    {
      "cell_type": "code",
      "execution_count": null,
      "metadata": {
        "id": "ATKFkvLe0XFb"
      },
      "outputs": [],
      "source": [
        "idade2  = 20\n",
        "nome = \"Gabriel\""
      ]
    },
    {
      "cell_type": "code",
      "source": [
        "print(f'O meu nome é {nome} e eu tenho {idade2} anos de idade')"
      ],
      "metadata": {
        "colab": {
          "base_uri": "https://localhost:8080/"
        },
        "id": "fFeiW-Eu2G3A",
        "outputId": "ecfe5390-d991-4d19-c723-b724e0f103a3"
      },
      "execution_count": null,
      "outputs": [
        {
          "output_type": "stream",
          "name": "stdout",
          "text": [
            "O meu nome é Gabriel e eu tenho 20 anos de idade\n"
          ]
        }
      ]
    },
    {
      "cell_type": "code",
      "source": [
        "def saudacao():\n",
        "  nome = input()\n",
        "  print(f'Olá, {nome}')"
      ],
      "metadata": {
        "id": "e-3FoqSt2UpS"
      },
      "execution_count": null,
      "outputs": []
    },
    {
      "cell_type": "code",
      "source": [
        "saudacao()"
      ],
      "metadata": {
        "colab": {
          "base_uri": "https://localhost:8080/"
        },
        "id": "kfgdriGx4Ynm",
        "outputId": "25b8f091-6120-4202-9533-8cd1dff010e2"
      },
      "execution_count": null,
      "outputs": [
        {
          "output_type": "stream",
          "name": "stdout",
          "text": [
            "Heitor\n",
            "Olá, Heitor\n"
          ]
        }
      ]
    },
    {
      "cell_type": "code",
      "source": [
        "def verifica_se_pode_dirigir(idade):\n",
        "  #idade = int(input(\"Qual a sua idade? \"))\n",
        "\n",
        "  if(idade >= 18):\n",
        "    print(\"Tem permissão para dirigir\")\n",
        "  else:\n",
        "    print(\"Não tem permissão para dirigir\")\n",
        "\n",
        "verifica_se_pode_dirigir(14)"
      ],
      "metadata": {
        "colab": {
          "base_uri": "https://localhost:8080/"
        },
        "id": "eALR7uNP5OFv",
        "outputId": "4244fd38-9212-4b42-9513-1e49a093cae0"
      },
      "execution_count": null,
      "outputs": [
        {
          "output_type": "stream",
          "name": "stdout",
          "text": [
            "Não tem permissão para dirigir\n"
          ]
        }
      ]
    },
    {
      "cell_type": "code",
      "source": [
        "idade = [22, 14, 18, 45]\n",
        "print(idade[0:2])\n",
        "print(idade[-1])"
      ],
      "metadata": {
        "id": "5gIjIb3P8qYC",
        "colab": {
          "base_uri": "https://localhost:8080/"
        },
        "outputId": "4afdd56e-d005-4950-aa29-fd52c84cf122"
      },
      "execution_count": null,
      "outputs": [
        {
          "output_type": "stream",
          "name": "stdout",
          "text": [
            "[22, 14]\n",
            "45\n"
          ]
        }
      ]
    },
    {
      "cell_type": "code",
      "source": [
        "for idade3 in idade:\n",
        "  verifica_se_pode_dirigir(idade3)"
      ],
      "metadata": {
        "colab": {
          "base_uri": "https://localhost:8080/"
        },
        "id": "u6lT_P0OcKGq",
        "outputId": "c629f5ee-954a-46da-97ba-9a8fc7a5e564"
      },
      "execution_count": null,
      "outputs": [
        {
          "output_type": "stream",
          "name": "stdout",
          "text": [
            "Tem permissão para dirigir\n",
            "Não tem permissão para dirigir\n",
            "Tem permissão para dirigir\n",
            "Tem permissão para dirigir\n"
          ]
        }
      ]
    },
    {
      "cell_type": "code",
      "source": [
        "lista = [12, 45, 12]\n",
        "def verifica(numeros):\n",
        "  for numero in numeros:\n",
        "    if numero >= 18:\n",
        "      print(\"Tem permissão\")\n",
        "    else:\n",
        "      print(\"Não tem permissão\")\n",
        "\n",
        "verifica(lista)"
      ],
      "metadata": {
        "colab": {
          "base_uri": "https://localhost:8080/"
        },
        "id": "zSefQdvbddYC",
        "outputId": "a3862cc1-b936-4cd3-a07f-e9ff1d0dc20d"
      },
      "execution_count": null,
      "outputs": [
        {
          "output_type": "stream",
          "name": "stdout",
          "text": [
            "Não tem permissão\n",
            "Tem permissão\n",
            "Não tem permissão\n"
          ]
        }
      ]
    },
    {
      "cell_type": "markdown",
      "source": [
        "# Rand Range e Matplotlib"
      ],
      "metadata": {
        "id": "JJq1oPw0kL3q"
      }
    },
    {
      "cell_type": "code",
      "source": [
        "from random import randrange, seed\n",
        "notas_matematica = []\n",
        "seed(10)\n",
        "for notas in range(8):\n",
        "  notas_matematica.append(randrange(0,11))\n",
        "\n",
        "notas_matematica"
      ],
      "metadata": {
        "colab": {
          "base_uri": "https://localhost:8080/"
        },
        "id": "-9swrsdCkGnh",
        "outputId": "82d3f59f-2cd9-42c5-f673-93cf945bcb74"
      },
      "execution_count": null,
      "outputs": [
        {
          "output_type": "execute_result",
          "data": {
            "text/plain": [
              "[9, 0, 6, 7, 9, 0, 3, 7]"
            ]
          },
          "metadata": {},
          "execution_count": 73
        }
      ]
    },
    {
      "cell_type": "code",
      "source": [
        "import matplotlib.pyplot as plt\n",
        "x = list(range(1, 9))\n",
        "y = notas_matematica\n",
        "plt.plot(x, y, marker = 'o')\n",
        "plt.title('Notas de Matemática')\n",
        "plt.ylabel('Notas')\n",
        "plt.show()\n"
      ],
      "metadata": {
        "colab": {
          "base_uri": "https://localhost:8080/",
          "height": 281
        },
        "id": "4kFF3fvQnddZ",
        "outputId": "77c1c4b8-8586-4cd1-f49c-0ea625f0224e"
      },
      "execution_count": null,
      "outputs": [
        {
          "output_type": "display_data",
          "data": {
            "text/plain": [
              "<Figure size 432x288 with 1 Axes>"
            ],
            "image/png": "[encoded data removed]"
          },
          "metadata": {
            "needs_background": "light"
          }
        }
      ]
    },
    {
      "cell_type": "code",
      "source": [
        ""
      ],
      "metadata": {
        "id": "SlENWq8mq20m"
      },
      "execution_count": null,
      "outputs": []
    }
  ]
}